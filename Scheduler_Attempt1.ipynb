{
 "cells": [
  {
   "cell_type": "code",
   "execution_count": 1,
   "metadata": {},
   "outputs": [],
   "source": [
    "import pandas as pd\n",
    "import numpy as np\n",
    "from amplpy import AMPL, DataFrame"
   ]
  },
  {
   "cell_type": "markdown",
   "metadata": {},
   "source": [
    "# Convert Schedule to DataFrame"
   ]
  },
  {
   "cell_type": "code",
   "execution_count": 13,
   "metadata": {},
   "outputs": [
    {
     "name": "stdout",
     "output_type": "stream",
     "text": [
      "Collecting python-constraint\n",
      "  Downloading python-constraint-1.4.0.tar.bz2 (18 kB)\n",
      "Building wheels for collected packages: python-constraint\n",
      "  Building wheel for python-constraint (setup.py) ... \u001b[?25ldone\n",
      "\u001b[?25h  Created wheel for python-constraint: filename=python_constraint-1.4.0-py2.py3-none-any.whl size=24080 sha256=cb6431d328c3415ddcf462af67eec5c31b1ac59eeacc5731932e41ce561c0344\n",
      "  Stored in directory: /Users/Jake/Library/Caches/pip/wheels/86/ba/5c/4e9115777de42c6a2e1ca77ef7c9d0d479254c5080341b55c5\n",
      "Successfully built python-constraint\n",
      "Installing collected packages: python-constraint\n",
      "Successfully installed python-constraint-1.4.0\n",
      "Note: you may need to restart the kernel to use updated packages.\n"
     ]
    }
   ],
   "source": [
    "pip install python-constraint"
   ]
  },
  {
   "cell_type": "markdown",
   "metadata": {},
   "source": [
    "# Convert Form Responses to DataFrame"
   ]
  },
  {
   "cell_type": "code",
   "execution_count": 2,
   "metadata": {},
   "outputs": [],
   "source": [
    "def find_digit(string):\n",
    "    return [int(s) for s in string.split() if s.isdigit()][0]"
   ]
  },
  {
   "cell_type": "code",
   "execution_count": 3,
   "metadata": {},
   "outputs": [
    {
     "data": {
      "text/html": [
       "<div>\n",
       "<style scoped>\n",
       "    .dataframe tbody tr th:only-of-type {\n",
       "        vertical-align: middle;\n",
       "    }\n",
       "\n",
       "    .dataframe tbody tr th {\n",
       "        vertical-align: top;\n",
       "    }\n",
       "\n",
       "    .dataframe thead th {\n",
       "        text-align: right;\n",
       "    }\n",
       "</style>\n",
       "<table border=\"1\" class=\"dataframe\">\n",
       "  <thead>\n",
       "    <tr style=\"text-align: right;\">\n",
       "      <th></th>\n",
       "      <th>Username</th>\n",
       "      <th>Which days/times are you available?  [7-8am]</th>\n",
       "      <th>Which days/times are you available?  [8-9am]</th>\n",
       "      <th>Which days/times are you available?  [9-10am]</th>\n",
       "      <th>Which days/times are you available?  [10-11am]</th>\n",
       "      <th>Which days/times are you available?  [11-12pm]</th>\n",
       "      <th>Which days/times are you available?  [12-1pm]</th>\n",
       "      <th>Which days/times are you available?  [1-2pm]</th>\n",
       "      <th>Which days/times are you available?  [2-3pm]</th>\n",
       "      <th>Which days/times are you available?  [3-4pm]</th>\n",
       "      <th>Which days/times are you available?  [4-5pm]</th>\n",
       "      <th>Which days/times are you available?  [5-6pm]</th>\n",
       "      <th>Which days/times are you available?  [6-7pm ]</th>\n",
       "      <th>Which days/times are you available?  [7-8pm]</th>\n",
       "      <th>Which days/times are you available?  [Deliveries only (morning)]</th>\n",
       "      <th>Which days/times are you available?  [Deliveries only (afternoon)]</th>\n",
       "      <th>Which days/times are you available?  [Food Recovery only]</th>\n",
       "      <th>Approximately how many hours per week are you available to volunteer?</th>\n",
       "    </tr>\n",
       "  </thead>\n",
       "  <tbody>\n",
       "    <tr>\n",
       "      <th>0</th>\n",
       "      <td>jake@berkeley.edu</td>\n",
       "      <td>Monday;Tuesday;Saturday</td>\n",
       "      <td>Tuesday;Saturday</td>\n",
       "      <td>Monday;Tuesday;Saturday</td>\n",
       "      <td>Tuesday;Thursday</td>\n",
       "      <td>Tuesday;Thursday</td>\n",
       "      <td>Monday;Tuesday;Thursday</td>\n",
       "      <td>Tuesday;Thursday</td>\n",
       "      <td>Tuesday;Wednesday;Friday</td>\n",
       "      <td>Tuesday;Wednesday;Friday</td>\n",
       "      <td>Tuesday;Wednesday;Friday</td>\n",
       "      <td>Monday;Tuesday</td>\n",
       "      <td>Tuesday</td>\n",
       "      <td>Monday;Tuesday</td>\n",
       "      <td>Tuesday</td>\n",
       "      <td>Monday;Tuesday</td>\n",
       "      <td>Tuesday</td>\n",
       "      <td>4 hours / week</td>\n",
       "    </tr>\n",
       "  </tbody>\n",
       "</table>\n",
       "</div>"
      ],
      "text/plain": [
       "            Username Which days/times are you available?  [7-8am]  \\\n",
       "0  jake@berkeley.edu                      Monday;Tuesday;Saturday   \n",
       "\n",
       "  Which days/times are you available?  [8-9am]  \\\n",
       "0                             Tuesday;Saturday   \n",
       "\n",
       "  Which days/times are you available?  [9-10am]  \\\n",
       "0                       Monday;Tuesday;Saturday   \n",
       "\n",
       "  Which days/times are you available?  [10-11am]  \\\n",
       "0                               Tuesday;Thursday   \n",
       "\n",
       "  Which days/times are you available?  [11-12pm]  \\\n",
       "0                               Tuesday;Thursday   \n",
       "\n",
       "  Which days/times are you available?  [12-1pm]  \\\n",
       "0                       Monday;Tuesday;Thursday   \n",
       "\n",
       "  Which days/times are you available?  [1-2pm]  \\\n",
       "0                             Tuesday;Thursday   \n",
       "\n",
       "  Which days/times are you available?  [2-3pm]  \\\n",
       "0                     Tuesday;Wednesday;Friday   \n",
       "\n",
       "  Which days/times are you available?  [3-4pm]  \\\n",
       "0                     Tuesday;Wednesday;Friday   \n",
       "\n",
       "  Which days/times are you available?  [4-5pm]  \\\n",
       "0                     Tuesday;Wednesday;Friday   \n",
       "\n",
       "  Which days/times are you available?  [5-6pm]  \\\n",
       "0                               Monday;Tuesday   \n",
       "\n",
       "  Which days/times are you available?  [6-7pm ]  \\\n",
       "0                                       Tuesday   \n",
       "\n",
       "  Which days/times are you available?  [7-8pm]  \\\n",
       "0                               Monday;Tuesday   \n",
       "\n",
       "  Which days/times are you available?  [Deliveries only (morning)]  \\\n",
       "0                                            Tuesday                 \n",
       "\n",
       "  Which days/times are you available?  [Deliveries only (afternoon)]  \\\n",
       "0                                     Monday;Tuesday                   \n",
       "\n",
       "  Which days/times are you available?  [Food Recovery only]  \\\n",
       "0                                            Tuesday          \n",
       "\n",
       "  Approximately how many hours per week are you available to volunteer?  \n",
       "0                                     4 hours / week                     "
      ]
     },
     "execution_count": 3,
     "metadata": {},
     "output_type": "execute_result"
    }
   ],
   "source": [
    "useful_columns = np.concatenate((np.array([1]),np.arange(8,25)))\n",
    "responses = pd.read_csv('FormResults.csv')\n",
    "responses = responses.iloc[:, useful_columns]\n",
    "responses.head()"
   ]
  },
  {
   "cell_type": "code",
   "execution_count": 6,
   "metadata": {},
   "outputs": [],
   "source": [
    "def response_tranform(df):\n",
    "    abbvs = ['m', 't', 'w', 'th', 'f', 's']\n",
    "    times = ['7', '8', '9', '10', '11', '12', '1', '2', '3', '4', '5', '6', '7', 'mornDeliv', 'afterDeliv', 'foodRecov']\n",
    "    columns = ['User', 'hours']\n",
    "    for i in times:\n",
    "        for j in abbvs:\n",
    "            columns.append(j + '-' + i)\n",
    "    df_transform = pd.DataFrame(columns=columns)\n",
    "    for i in np.arange(df.shape[0]):\n",
    "        data = []\n",
    "        for j in df.iloc[i, 1:17]:\n",
    "            if 'Monday' in j:\n",
    "                data.append(1)\n",
    "            else:\n",
    "                data.append(0)\n",
    "            if 'Tuesday' in j:\n",
    "                data.append(1)\n",
    "            else:\n",
    "                data.append(0)\n",
    "            if 'Wednesday' in j:\n",
    "                data.append(1)\n",
    "            else:\n",
    "                data.append(0)\n",
    "            if 'Thursday' in j:\n",
    "                data.append(1)\n",
    "            else:\n",
    "                data.append(0)\n",
    "            if 'Friday' in j:\n",
    "                data.append(1)\n",
    "            else:\n",
    "                data.append(0)\n",
    "            if 'Saturday' in j:\n",
    "                data.append(1)\n",
    "            else:\n",
    "                data.append(0)\n",
    "        data = [df.iloc[i, 0]] + [df.iloc[i, 17]] + data\n",
    "        df_length = len(df_transform)\n",
    "        df_transform.loc[df_length] = data\n",
    "    return df_transform"
   ]
  },
  {
   "cell_type": "code",
   "execution_count": 9,
   "metadata": {},
   "outputs": [],
   "source": [
    "response_transform = response_tranform(responses)"
   ]
  },
  {
   "cell_type": "code",
   "execution_count": 10,
   "metadata": {},
   "outputs": [],
   "source": [
    "response_transform['hours'] = response_transform['hours'].apply(find_digit)"
   ]
  },
  {
   "cell_type": "code",
   "execution_count": 12,
   "metadata": {},
   "outputs": [
    {
     "data": {
      "text/html": [
       "<div>\n",
       "<style scoped>\n",
       "    .dataframe tbody tr th:only-of-type {\n",
       "        vertical-align: middle;\n",
       "    }\n",
       "\n",
       "    .dataframe tbody tr th {\n",
       "        vertical-align: top;\n",
       "    }\n",
       "\n",
       "    .dataframe thead th {\n",
       "        text-align: right;\n",
       "    }\n",
       "</style>\n",
       "<table border=\"1\" class=\"dataframe\">\n",
       "  <thead>\n",
       "    <tr style=\"text-align: right;\">\n",
       "      <th></th>\n",
       "      <th>User</th>\n",
       "      <th>hours</th>\n",
       "      <th>m-7</th>\n",
       "      <th>t-7</th>\n",
       "      <th>w-7</th>\n",
       "      <th>th-7</th>\n",
       "      <th>f-7</th>\n",
       "      <th>s-7</th>\n",
       "      <th>m-8</th>\n",
       "      <th>t-8</th>\n",
       "      <th>...</th>\n",
       "      <th>w-afterDeliv</th>\n",
       "      <th>th-afterDeliv</th>\n",
       "      <th>f-afterDeliv</th>\n",
       "      <th>s-afterDeliv</th>\n",
       "      <th>m-foodRecov</th>\n",
       "      <th>t-foodRecov</th>\n",
       "      <th>w-foodRecov</th>\n",
       "      <th>th-foodRecov</th>\n",
       "      <th>f-foodRecov</th>\n",
       "      <th>s-foodRecov</th>\n",
       "    </tr>\n",
       "  </thead>\n",
       "  <tbody>\n",
       "    <tr>\n",
       "      <th>0</th>\n",
       "      <td>jake@berkeley.edu</td>\n",
       "      <td>4</td>\n",
       "      <td>1</td>\n",
       "      <td>1</td>\n",
       "      <td>0</td>\n",
       "      <td>0</td>\n",
       "      <td>0</td>\n",
       "      <td>1</td>\n",
       "      <td>0</td>\n",
       "      <td>1</td>\n",
       "      <td>...</td>\n",
       "      <td>0</td>\n",
       "      <td>0</td>\n",
       "      <td>0</td>\n",
       "      <td>0</td>\n",
       "      <td>0</td>\n",
       "      <td>1</td>\n",
       "      <td>0</td>\n",
       "      <td>0</td>\n",
       "      <td>0</td>\n",
       "      <td>0</td>\n",
       "    </tr>\n",
       "  </tbody>\n",
       "</table>\n",
       "<p>1 rows × 98 columns</p>\n",
       "</div>"
      ],
      "text/plain": [
       "                User  hours m-7 t-7 w-7 th-7 f-7 s-7 m-8 t-8  ...  \\\n",
       "0  jake@berkeley.edu      4   1   1   0    0   0   1   0   1  ...   \n",
       "\n",
       "  w-afterDeliv th-afterDeliv f-afterDeliv s-afterDeliv m-foodRecov  \\\n",
       "0            0             0            0            0           0   \n",
       "\n",
       "  t-foodRecov w-foodRecov th-foodRecov f-foodRecov s-foodRecov  \n",
       "0           1           0            0           0           0  \n",
       "\n",
       "[1 rows x 98 columns]"
      ]
     },
     "execution_count": 12,
     "metadata": {},
     "output_type": "execute_result"
    }
   ],
   "source": [
    "response_transform.head()"
   ]
  },
  {
   "cell_type": "code",
   "execution_count": null,
   "metadata": {},
   "outputs": [],
   "source": [
    "response"
   ]
  },
  {
   "cell_type": "markdown",
   "metadata": {},
   "source": [
    "# Run Constraint Satisfaction Algorithm"
   ]
  },
  {
   "cell_type": "markdown",
   "metadata": {},
   "source": [
    "1. First, assign shifts to volunteers with fewest available times.\n",
    "2. Next, assign remaining shifts (1-shift per person) til all shifts filled.\n",
    "3. "
   ]
  },
  {
   "cell_type": "markdown",
   "metadata": {},
   "source": [
    "# Can we setup as Linear Programming Problem"
   ]
  },
  {
   "cell_type": "code",
   "execution_count": null,
   "metadata": {},
   "outputs": [],
   "source": [
    "count = -np.ones(30)\n",
    "bounds = (0, 1)\n",
    "a = [1, 0, 0]\n",
    "b = [0, 1, 0]\n",
    "c = [0, 0, 1]\n",
    "a_neg = [-1, 0, 0]\n",
    "b_neg = [0, -1, 0]\n",
    "c_neg = [0, 0, -1]\n",
    "a_0 = [1, 1, 1]\n",
    "a*3"
   ]
  },
  {
   "cell_type": "code",
   "execution_count": null,
   "metadata": {},
   "outputs": [],
   "source": [
    "matrix = []\n",
    "off = [0,0,0]\n",
    "on = [1,1,1]\n",
    "for i in np.arange(10):\n",
    "    matrix = matrix + [off * (i) + on + off * (9-i)]\n"
   ]
  },
  {
   "cell_type": "code",
   "execution_count": null,
   "metadata": {},
   "outputs": [],
   "source": [
    "A_ub = np.matrix([a*10, \n",
    "                  b*10,\n",
    "                  c*10,\n",
    "                  a_neg * 10,\n",
    "                  b_neg * 10,\n",
    "                  c_neg * 10])\n",
    "\n",
    "\n",
    "b_ub = np.array([5,\n",
    "                 5,\n",
    "                 5,\n",
    "                 -2,\n",
    "                 -2,\n",
    "                 -2])\n",
    "\n",
    "A_eq = np.matrix(np.ones(30))\n",
    "\n",
    "b_eq = np.array([15])"
   ]
  },
  {
   "cell_type": "code",
   "execution_count": null,
   "metadata": {},
   "outputs": [],
   "source": [
    "from scipy.optimize import linprog\n",
    "\n",
    "res = linprog(count, A_ub=A_ub, b_ub=b_ub, A_eq=A_eq, b_eq=b_eq, bounds=bounds)"
   ]
  },
  {
   "cell_type": "code",
   "execution_count": null,
   "metadata": {},
   "outputs": [],
   "source": [
    "print(res)"
   ]
  },
  {
   "cell_type": "code",
   "execution_count": null,
   "metadata": {},
   "outputs": [],
   "source": []
  },
  {
   "cell_type": "code",
   "execution_count": null,
   "metadata": {},
   "outputs": [],
   "source": []
  },
  {
   "cell_type": "code",
   "execution_count": null,
   "metadata": {},
   "outputs": [],
   "source": []
  },
  {
   "cell_type": "code",
   "execution_count": null,
   "metadata": {},
   "outputs": [],
   "source": []
  },
  {
   "cell_type": "code",
   "execution_count": null,
   "metadata": {},
   "outputs": [],
   "source": []
  },
  {
   "cell_type": "code",
   "execution_count": null,
   "metadata": {},
   "outputs": [],
   "source": [
    "useful_columns = np.concatenate((np.array([1]),np.arange(8,25)))\n",
    "responses = pd.read_csv('FormResults.csv')\n",
    "responses = responses.iloc[:, useful_columns]"
   ]
  },
  {
   "cell_type": "code",
   "execution_count": null,
   "metadata": {},
   "outputs": [],
   "source": [
    "responses.iloc[:,1]"
   ]
  },
  {
   "cell_type": "code",
   "execution_count": null,
   "metadata": {},
   "outputs": [],
   "source": [
    "responses['M-0'] = ['Monday' in i for i in responses.iloc[:,1]]\n",
    "zero = responses.iloc[:,1]"
   ]
  },
  {
   "cell_type": "code",
   "execution_count": null,
   "metadata": {},
   "outputs": [],
   "source": [
    "response_transform = pd.DataFrame(responses.Username)"
   ]
  },
  {
   "cell_type": "code",
   "execution_count": null,
   "metadata": {},
   "outputs": [],
   "source": [
    "def transform(response):\n",
    "    response_transform = pd.DataFrame(response.Username)\n",
    "    responses['M-0'] = ['Monday' in i for i in responses.iloc[:,1]]\n",
    "    responses['M-1']\n",
    "    responses['M-2']\n",
    "    responses['M-3']\n",
    "    responses['M-4']\n",
    "    responses['M-5']\n",
    "    responses['M-6']\n",
    "    responses['M-7']"
   ]
  },
  {
   "cell_type": "markdown",
   "metadata": {},
   "source": [
    "# Demo"
   ]
  },
  {
   "cell_type": "code",
   "execution_count": null,
   "metadata": {},
   "outputs": [],
   "source": [
    "people = np.arange(10)\n",
    "Monday = [[0, 1, 2, 3], [0, 1], [2, 3, 4, 5], [3, 4], [4, 5, 6, 7], [5, 6], [6, 7, 8, 9], [7, 8], [8, 9, 10, 11], [10, 11, 12]]"
   ]
  },
  {
   "cell_type": "code",
   "execution_count": null,
   "metadata": {},
   "outputs": [],
   "source": [
    "frame = pd.DataFrame(people)"
   ]
  },
  {
   "cell_type": "code",
   "execution_count": null,
   "metadata": {},
   "outputs": [],
   "source": [
    "frame['Monday'] = Monday"
   ]
  },
  {
   "cell_type": "code",
   "execution_count": null,
   "metadata": {},
   "outputs": [],
   "source": [
    "frame['hours'] = [1, 1, 1, 1, 1, 1, 1, 1, 1, 1]\n",
    "frame['m-0'] = [1 if 0 in i else 0 for i in frame['Monday']]\n",
    "frame['m-1'] = [1 if 1 in i else 0 for i in frame['Monday']]\n",
    "frame['m-2'] = [1 if 2 in i else 0 for i in frame['Monday']]\n",
    "frame['m-3'] = [1 if 3 in i else 0 for i in frame['Monday']]\n",
    "frame['m-4'] = [1 if 4 in i else 0 for i in frame['Monday']]\n",
    "frame['m-5'] = [1 if]"
   ]
  },
  {
   "cell_type": "code",
   "execution_count": null,
   "metadata": {},
   "outputs": [],
   "source": [
    "frame"
   ]
  },
  {
   "cell_type": "code",
   "execution_count": null,
   "metadata": {},
   "outputs": [],
   "source": []
  },
  {
   "cell_type": "code",
   "execution_count": null,
   "metadata": {},
   "outputs": [],
   "source": [
    "count = -np.ones(30)\n",
    "bounds = (0, 1)\n",
    "a = [1, 0, 0]\n",
    "b = [0, 1, 0]\n",
    "c = [0, 0, 1]\n",
    "a_neg = [-1, 0, 0]\n",
    "b_neg = [0, -1, 0]\n",
    "c_neg = [0, 0, -1]\n",
    "a_0 = [1, 1, 1]\n",
    "a*3"
   ]
  },
  {
   "cell_type": "code",
   "execution_count": null,
   "metadata": {},
   "outputs": [],
   "source": [
    "matrix = []\n",
    "off = [0,0,0]\n",
    "on = [1,1,1]\n",
    "for i in np.arange(10):\n",
    "    matrix = matrix + [off * (i) + on + off * (9-i)]\n"
   ]
  },
  {
   "cell_type": "code",
   "execution_count": null,
   "metadata": {},
   "outputs": [],
   "source": [
    "A_ub = np.matrix([a*10, \n",
    "                  b*10,\n",
    "                  c*10,\n",
    "                  a_neg * 10,\n",
    "                  b_neg * 10,\n",
    "                  c_neg * 10])\n",
    "\n",
    "\n",
    "b_ub = np.array([5,\n",
    "                 5,\n",
    "                 5,\n",
    "                 -2,\n",
    "                 -2,\n",
    "                 -2])\n",
    "\n",
    "A_eq = np.matrix(np.ones(30))\n",
    "\n",
    "b_eq = np.array([15])"
   ]
  },
  {
   "cell_type": "code",
   "execution_count": null,
   "metadata": {},
   "outputs": [],
   "source": [
    "from scipy.optimize import linprog\n",
    "\n",
    "res = linprog(count, A_ub=A_ub, b_ub=b_ub, A_eq=A_eq, b_eq=b_eq, bounds=bounds)"
   ]
  },
  {
   "cell_type": "code",
   "execution_count": null,
   "metadata": {},
   "outputs": [],
   "source": [
    "print(res)"
   ]
  },
  {
   "cell_type": "code",
   "execution_count": null,
   "metadata": {},
   "outputs": [],
   "source": []
  }
 ],
 "metadata": {
  "kernelspec": {
   "display_name": "Python 3",
   "language": "python",
   "name": "python3"
  },
  "language_info": {
   "codemirror_mode": {
    "name": "ipython",
    "version": 3
   },
   "file_extension": ".py",
   "mimetype": "text/x-python",
   "name": "python",
   "nbconvert_exporter": "python",
   "pygments_lexer": "ipython3",
   "version": "3.8.5"
  }
 },
 "nbformat": 4,
 "nbformat_minor": 4
}
