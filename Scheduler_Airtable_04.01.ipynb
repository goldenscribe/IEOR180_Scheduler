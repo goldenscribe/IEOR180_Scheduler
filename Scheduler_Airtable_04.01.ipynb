{
 "cells": [
  {
   "cell_type": "code",
   "execution_count": 2,
   "metadata": {},
   "outputs": [],
   "source": [
    "import pandas as pd\n",
    "import numpy as np\n",
    "from amplpy import AMPL, DataFrame"
   ]
  },
  {
   "cell_type": "markdown",
   "metadata": {},
   "source": [
    "# Load in relevant data"
   ]
  },
  {
   "cell_type": "markdown",
   "metadata": {},
   "source": [
    "Note: CSP = Constraint Satisfaction Problem"
   ]
  },
  {
   "cell_type": "code",
   "execution_count": 3,
   "metadata": {},
   "outputs": [],
   "source": [
    "responses = pd.read_csv(\"autoscheduler_Export.csv\")\n",
    "shifts = pd.read_csv(\"shifts.csv\")\n",
    "recovery_shifts = pd.read_csv('recoveryshifts.csv')\n",
    "hours = responses[['Full Name', 'Volunteer Weekly Commitment']].set_index('Full Name')"
   ]
  },
  {
   "cell_type": "code",
   "execution_count": 4,
   "metadata": {},
   "outputs": [
    {
     "name": "stdout",
     "output_type": "stream",
     "text": [
      "responses:\n"
     ]
    },
    {
     "data": {
      "text/html": [
       "<div>\n",
       "<style scoped>\n",
       "    .dataframe tbody tr th:only-of-type {\n",
       "        vertical-align: middle;\n",
       "    }\n",
       "\n",
       "    .dataframe tbody tr th {\n",
       "        vertical-align: top;\n",
       "    }\n",
       "\n",
       "    .dataframe thead th {\n",
       "        text-align: right;\n",
       "    }\n",
       "</style>\n",
       "<table border=\"1\" class=\"dataframe\">\n",
       "  <thead>\n",
       "    <tr style=\"text-align: right;\">\n",
       "      <th></th>\n",
       "      <th>Full Name</th>\n",
       "      <th>Volunteer Weekly Commitment</th>\n",
       "      <th>All Pantry Shift Availabilities</th>\n",
       "      <th>Recovery Shift Availabilities</th>\n",
       "    </tr>\n",
       "  </thead>\n",
       "  <tbody>\n",
       "    <tr>\n",
       "      <th>0</th>\n",
       "      <td>Gillian Edgelow</td>\n",
       "      <td>2</td>\n",
       "      <td>FRI 10-12AM,FRI 11-1PM,FRI 12-2PM,SAT 10-12AM,...</td>\n",
       "      <td>NaN</td>\n",
       "    </tr>\n",
       "    <tr>\n",
       "      <th>1</th>\n",
       "      <td>Giulia de Azeredo Valdejao</td>\n",
       "      <td>1</td>\n",
       "      <td>THU 1-3PM,THU 2-4PM,MON 10-12PM</td>\n",
       "      <td>NaN</td>\n",
       "    </tr>\n",
       "  </tbody>\n",
       "</table>\n",
       "</div>"
      ],
      "text/plain": [
       "                    Full Name  Volunteer Weekly Commitment  \\\n",
       "0             Gillian Edgelow                            2   \n",
       "1  Giulia de Azeredo Valdejao                            1   \n",
       "\n",
       "                     All Pantry Shift Availabilities  \\\n",
       "0  FRI 10-12AM,FRI 11-1PM,FRI 12-2PM,SAT 10-12AM,...   \n",
       "1                    THU 1-3PM,THU 2-4PM,MON 10-12PM   \n",
       "\n",
       "  Recovery Shift Availabilities  \n",
       "0                           NaN  \n",
       "1                           NaN  "
      ]
     },
     "metadata": {},
     "output_type": "display_data"
    },
    {
     "name": "stdout",
     "output_type": "stream",
     "text": [
      "shifts\n"
     ]
    },
    {
     "data": {
      "text/html": [
       "<div>\n",
       "<style scoped>\n",
       "    .dataframe tbody tr th:only-of-type {\n",
       "        vertical-align: middle;\n",
       "    }\n",
       "\n",
       "    .dataframe tbody tr th {\n",
       "        vertical-align: top;\n",
       "    }\n",
       "\n",
       "    .dataframe thead th {\n",
       "        text-align: right;\n",
       "    }\n",
       "</style>\n",
       "<table border=\"1\" class=\"dataframe\">\n",
       "  <thead>\n",
       "    <tr style=\"text-align: right;\">\n",
       "      <th></th>\n",
       "      <th>Volunteer Shift</th>\n",
       "      <th>All Available Pantry Volunteers</th>\n",
       "    </tr>\n",
       "  </thead>\n",
       "  <tbody>\n",
       "    <tr>\n",
       "      <th>0</th>\n",
       "      <td>MON 10-12PM</td>\n",
       "      <td>Julian Kuzdovich,Danny Cao,Giulia Oltranti,Sal...</td>\n",
       "    </tr>\n",
       "    <tr>\n",
       "      <th>1</th>\n",
       "      <td>TUE 9-11AM</td>\n",
       "      <td>Andrea Ponce Mata,Serene Chang,Ed Hoffmann,Tas...</td>\n",
       "    </tr>\n",
       "  </tbody>\n",
       "</table>\n",
       "</div>"
      ],
      "text/plain": [
       "  Volunteer Shift                    All Available Pantry Volunteers\n",
       "0     MON 10-12PM  Julian Kuzdovich,Danny Cao,Giulia Oltranti,Sal...\n",
       "1      TUE 9-11AM  Andrea Ponce Mata,Serene Chang,Ed Hoffmann,Tas..."
      ]
     },
     "metadata": {},
     "output_type": "display_data"
    },
    {
     "name": "stdout",
     "output_type": "stream",
     "text": [
      "recovery_shifts\n"
     ]
    },
    {
     "data": {
      "text/html": [
       "<div>\n",
       "<style scoped>\n",
       "    .dataframe tbody tr th:only-of-type {\n",
       "        vertical-align: middle;\n",
       "    }\n",
       "\n",
       "    .dataframe tbody tr th {\n",
       "        vertical-align: top;\n",
       "    }\n",
       "\n",
       "    .dataframe thead th {\n",
       "        text-align: right;\n",
       "    }\n",
       "</style>\n",
       "<table border=\"1\" class=\"dataframe\">\n",
       "  <thead>\n",
       "    <tr style=\"text-align: right;\">\n",
       "      <th></th>\n",
       "      <th>Volunteer Shift</th>\n",
       "      <th>Food Recovery Volunteers</th>\n",
       "    </tr>\n",
       "  </thead>\n",
       "  <tbody>\n",
       "    <tr>\n",
       "      <th>0</th>\n",
       "      <td>MON 10-12PM</td>\n",
       "      <td>Genna Fudin,Pascale Montgomery</td>\n",
       "    </tr>\n",
       "    <tr>\n",
       "      <th>1</th>\n",
       "      <td>TUE 10-12PM</td>\n",
       "      <td>Isaiah Gallegos</td>\n",
       "    </tr>\n",
       "  </tbody>\n",
       "</table>\n",
       "</div>"
      ],
      "text/plain": [
       "  Volunteer Shift        Food Recovery Volunteers\n",
       "0     MON 10-12PM  Genna Fudin,Pascale Montgomery\n",
       "1     TUE 10-12PM                 Isaiah Gallegos"
      ]
     },
     "metadata": {},
     "output_type": "display_data"
    },
    {
     "name": "stdout",
     "output_type": "stream",
     "text": [
      "hours\n"
     ]
    },
    {
     "data": {
      "text/html": [
       "<div>\n",
       "<style scoped>\n",
       "    .dataframe tbody tr th:only-of-type {\n",
       "        vertical-align: middle;\n",
       "    }\n",
       "\n",
       "    .dataframe tbody tr th {\n",
       "        vertical-align: top;\n",
       "    }\n",
       "\n",
       "    .dataframe thead th {\n",
       "        text-align: right;\n",
       "    }\n",
       "</style>\n",
       "<table border=\"1\" class=\"dataframe\">\n",
       "  <thead>\n",
       "    <tr style=\"text-align: right;\">\n",
       "      <th></th>\n",
       "      <th>Volunteer Weekly Commitment</th>\n",
       "    </tr>\n",
       "    <tr>\n",
       "      <th>Full Name</th>\n",
       "      <th></th>\n",
       "    </tr>\n",
       "  </thead>\n",
       "  <tbody>\n",
       "    <tr>\n",
       "      <th>Gillian Edgelow</th>\n",
       "      <td>2</td>\n",
       "    </tr>\n",
       "    <tr>\n",
       "      <th>Giulia de Azeredo Valdejao</th>\n",
       "      <td>1</td>\n",
       "    </tr>\n",
       "  </tbody>\n",
       "</table>\n",
       "</div>"
      ],
      "text/plain": [
       "                            Volunteer Weekly Commitment\n",
       "Full Name                                              \n",
       "Gillian Edgelow                                       2\n",
       "Giulia de Azeredo Valdejao                            1"
      ]
     },
     "metadata": {},
     "output_type": "display_data"
    }
   ],
   "source": [
    "print('responses:')\n",
    "display(responses.head(2))\n",
    "print('shifts')\n",
    "display(shifts.head(2))\n",
    "print('recovery_shifts')\n",
    "display(recovery_shifts.head(2))\n",
    "print('hours')\n",
    "display(hours.head(2))"
   ]
  },
  {
   "cell_type": "markdown",
   "metadata": {},
   "source": [
    "## Transform data from volunteer form so it's usable by the CSP solver."
   ]
  },
  {
   "cell_type": "code",
   "execution_count": 5,
   "metadata": {},
   "outputs": [],
   "source": [
    "def Transform_Responses(response_df):\n",
    "    all_shifts = list(shifts['Volunteer Shift'])\n",
    "    columns = np.append(['Full Name'], all_shifts)\n",
    "    availability = pd.DataFrame(columns=columns)\n",
    "    for i in np.arange(response_df.shape[0]):\n",
    "        mapping = []\n",
    "        for j in all_shifts:\n",
    "            if j in response_df.iloc[i,2]:\n",
    "                mapping.append(1)\n",
    "            else:\n",
    "                mapping.append(0)\n",
    "            row_data = np.append(response_df.iloc[i,0], mapping)\n",
    "        availability.loc[len(availability)] = row_data\n",
    "    return availability"
   ]
  },
  {
   "cell_type": "code",
   "execution_count": 6,
   "metadata": {},
   "outputs": [],
   "source": [
    "availability = Transform_Responses(responses).set_index('Full Name')"
   ]
  },
  {
   "cell_type": "markdown",
   "metadata": {},
   "source": [
    "# Run Constraint Satisfaction Algorithm"
   ]
  },
  {
   "cell_type": "markdown",
   "metadata": {},
   "source": [
    "Variables: user-day-shift\n",
    "Constraints:\n",
    "+ 1 <= sum(shift) <= 5\n",
    "+ 1 <= sum(volunteer) <= volunteer weekly commitment\n",
    "+ ex. sum(user-mon-7-8) <= 5\n",
    "+ 2 <= sum(last shift for day) <= 5 (should add ?)"
   ]
  },
  {
   "cell_type": "code",
   "execution_count": 7,
   "metadata": {},
   "outputs": [],
   "source": [
    "import constraint as csp\n",
    "#problem = Problem()\n",
    "#problem.addVariables([\"a\", \"b\"], [1, 2, 3])\n",
    "#problem.addConstraint(lambda a, b: b == a+1, [\"a\", \"b\"])\n",
    "#solutions = problem.getSolutions()"
   ]
  },
  {
   "cell_type": "markdown",
   "metadata": {},
   "source": [
    "## Create a couple helper functions for the CSP solver based on above constraints"
   ]
  },
  {
   "cell_type": "code",
   "execution_count": 8,
   "metadata": {},
   "outputs": [],
   "source": [
    "def eqOne(*arg):\n",
    "    return sum(arg) == 1\n",
    "\n",
    "def greqN(x):\n",
    "    def greq_helper(*arg):\n",
    "        return sum(arg) >= x\n",
    "    return greq_helper\n",
    "\n",
    "def leeqN(x):\n",
    "    def leeq_helper(*arg):\n",
    "        return sum(arg) <= x\n",
    "    return leeq_helper"
   ]
  },
  {
   "cell_type": "markdown",
   "metadata": {},
   "source": [
    "## Define all decision variabls in form 'volunteer;shift'"
   ]
  },
  {
   "cell_type": "code",
   "execution_count": 11,
   "metadata": {},
   "outputs": [],
   "source": [
    "all_shifts = list(shifts['Volunteer Shift'])\n",
    "all_volunteers = list(responses['Full Name'])\n",
    "variables = []\n",
    "variable_domain = [0, 1]\n",
    "for s in all_shifts:\n",
    "    for v in all_volunteers:\n",
    "        if int(availability.loc[v,s]) == 1:\n",
    "            variables.append(v + ';' + s)"
   ]
  },
  {
   "cell_type": "code",
   "execution_count": 12,
   "metadata": {},
   "outputs": [],
   "source": [
    "shift_Sum = []\n",
    "for i in all_shifts:\n",
    "    one_shift = []\n",
    "    for j in variables:\n",
    "        if j.split(';')[1] in i:\n",
    "            one_shift.append(j)\n",
    "    shift_Sum.append(one_shift)"
   ]
  },
  {
   "cell_type": "code",
   "execution_count": 13,
   "metadata": {},
   "outputs": [],
   "source": [
    "vol_Sum = []\n",
    "for i in all_volunteers:\n",
    "    one_user = []\n",
    "    for j in variables:\n",
    "        if j.split(';')[0] in i:\n",
    "            one_user.append(j)\n",
    "    vol_Sum.append(one_user)"
   ]
  },
  {
   "cell_type": "markdown",
   "metadata": {},
   "source": [
    "#### Main algorithm: way too slow (DON'T RUN)"
   ]
  },
  {
   "cell_type": "code",
   "execution_count": 53,
   "metadata": {},
   "outputs": [
    {
     "ename": "AttributeError",
     "evalue": "'IntVar' object has no attribute 'split'",
     "output_type": "error",
     "traceback": [
      "\u001b[0;31m---------------------------------------------------------------------------\u001b[0m",
      "\u001b[0;31mAttributeError\u001b[0m                            Traceback (most recent call last)",
      "\u001b[0;32m<ipython-input-53-4db94120e93f>\u001b[0m in \u001b[0;36m<module>\u001b[0;34m\u001b[0m\n\u001b[1;32m      7\u001b[0m \u001b[0;31m#upper bound constraint for each user (volunteer weekly commitment)\u001b[0m\u001b[0;34m\u001b[0m\u001b[0;34m\u001b[0m\u001b[0;34m\u001b[0m\u001b[0m\n\u001b[1;32m      8\u001b[0m \u001b[0;32mfor\u001b[0m \u001b[0mvs\u001b[0m \u001b[0;32min\u001b[0m \u001b[0mvol_Sum\u001b[0m\u001b[0;34m:\u001b[0m\u001b[0;34m\u001b[0m\u001b[0;34m\u001b[0m\u001b[0m\n\u001b[0;32m----> 9\u001b[0;31m     \u001b[0mvol\u001b[0m \u001b[0;34m=\u001b[0m \u001b[0mvs\u001b[0m\u001b[0;34m[\u001b[0m\u001b[0;36m0\u001b[0m\u001b[0;34m]\u001b[0m\u001b[0;34m.\u001b[0m\u001b[0msplit\u001b[0m\u001b[0;34m(\u001b[0m\u001b[0;34m';'\u001b[0m\u001b[0;34m)\u001b[0m\u001b[0;34m[\u001b[0m\u001b[0;36m0\u001b[0m\u001b[0;34m]\u001b[0m\u001b[0;34m\u001b[0m\u001b[0;34m\u001b[0m\u001b[0m\n\u001b[0m\u001b[1;32m     10\u001b[0m     \u001b[0mk\u001b[0m \u001b[0;34m=\u001b[0m \u001b[0mhours\u001b[0m\u001b[0;34m.\u001b[0m\u001b[0mloc\u001b[0m\u001b[0;34m[\u001b[0m\u001b[0mvol\u001b[0m\u001b[0;34m]\u001b[0m\u001b[0;34m[\u001b[0m\u001b[0;36m0\u001b[0m\u001b[0;34m]\u001b[0m\u001b[0;34m\u001b[0m\u001b[0;34m\u001b[0m\u001b[0m\n\u001b[1;32m     11\u001b[0m     \u001b[0mproblem\u001b[0m\u001b[0;34m.\u001b[0m\u001b[0maddConstraint\u001b[0m\u001b[0;34m(\u001b[0m\u001b[0mleeqN\u001b[0m\u001b[0;34m(\u001b[0m\u001b[0mk\u001b[0m\u001b[0;34m)\u001b[0m\u001b[0;34m,\u001b[0m \u001b[0mvs\u001b[0m\u001b[0;34m)\u001b[0m\u001b[0;34m\u001b[0m\u001b[0;34m\u001b[0m\u001b[0m\n",
      "\u001b[0;31mAttributeError\u001b[0m: 'IntVar' object has no attribute 'split'"
     ]
    }
   ],
   "source": [
    "problem = csp.Problem()\n",
    "problem.addVariables(variables, variable_domain)\n",
    "#constraints based on volunteer hours (volunteer shifts)\n",
    "#lower bound of 1 on each volunteer (to ensure every volunteer has one shift):\n",
    "for vs in vol_Sum:\n",
    "    problem.addConstraint(greqN(0), vs)\n",
    "#upper bound constraint for each user (volunteer weekly commitment)\n",
    "for vs in vol_Sum:\n",
    "    vol = vs[0].split(';')[0]\n",
    "    k = hours.loc[vol][0]\n",
    "    problem.addConstraint(leeqN(k), vs)\n",
    "\n",
    "print('volunteer constraints created!')\n",
    "\n",
    "#shift based constraints (filling each shift but not overfilling)\n",
    "#lower bound (of 1) on shifts\n",
    "for shift in shift_Sum:\n",
    "    problem.addConstraint(greqN(0), shift)\n",
    "    problem.addConstraint(leeqN(5), shift)\n",
    "    \n",
    "print('shift constraints created!')\n",
    "    \n",
    "#Get solution\n",
    "solutions = problem.getSolution()"
   ]
  },
  {
   "cell_type": "markdown",
   "metadata": {},
   "source": [
    "#### Simpler algorithm and returns one solution"
   ]
  },
  {
   "cell_type": "markdown",
   "metadata": {},
   "source": [
    "## Google OR-Tools CSP solver"
   ]
  },
  {
   "cell_type": "code",
   "execution_count": 54,
   "metadata": {},
   "outputs": [],
   "source": [
    "from ortools.sat.python import cp_model"
   ]
  },
  {
   "cell_type": "markdown",
   "metadata": {},
   "source": [
    "## Model with maximize #assignments"
   ]
  },
  {
   "cell_type": "code",
   "execution_count": 77,
   "metadata": {},
   "outputs": [
    {
     "name": "stdout",
     "output_type": "stream",
     "text": [
      "volunteer constraints created!\n",
      "shift constraints created!\n"
     ]
    }
   ],
   "source": [
    "model = cp_model.CpModel()\n",
    "\n",
    "gvars = list()\n",
    "for var in variables:\n",
    "    var = model.NewIntVar(0, 1, var)\n",
    "    gvars.append(var)\n",
    "\n",
    "vol_Sum = []\n",
    "for i in all_volunteers:\n",
    "    one_user = []\n",
    "    for j in gvars:\n",
    "        if j.Name().split(';')[0] in i:\n",
    "            one_user.append(j)\n",
    "    vol_Sum.append(one_user)\n",
    "    \n",
    "shift_Sum = []\n",
    "for i in all_shifts:\n",
    "    one_shift = []\n",
    "    for j in gvars:\n",
    "        if j.Name().split(';')[1] in i:\n",
    "            one_shift.append(j)\n",
    "    shift_Sum.append(one_shift)\n",
    "    \n",
    "#constraints based on volunteer hours (volunteer shifts)\n",
    "#lower bound of 1 on each volunteer (to ensure every volunteer has one shift):\n",
    "for vs in vol_Sum:\n",
    "    model.Add(sum(vs) >= 1)\n",
    "    \n",
    "\n",
    "#upper bound constraint for each user (volunteer weekly commitment)\n",
    "for vs in vol_Sum:\n",
    "    vol = vs[0].Name().split(';')[0]\n",
    "    k = hours.loc[vol][0]\n",
    "    model.Add(sum(vs) <= k)\n",
    "\n",
    "print('volunteer constraints created!')\n",
    "\n",
    "#shift based constraints (filling each shift but not overfilling)\n",
    "#lower bound (of 1) on shifts\n",
    "for shift in shift_Sum:\n",
    "    model.Add(sum(shift) >= 1)\n",
    "    model.Add(sum(shift) <= 10)\n",
    "    \n",
    "    \n",
    "print('shift constraints created!')\n",
    "\n",
    "#Maximize number of volunteers working\n",
    "model.Maximize(sum(gvars))\n",
    "    \n",
    "#Get solution\n",
    "#solutions = problem.getSolution()\n",
    "solver = cp_model.CpSolver()\n",
    "status = solver.Solve(model)"
   ]
  },
  {
   "cell_type": "code",
   "execution_count": 78,
   "metadata": {
    "scrolled": false
   },
   "outputs": [],
   "source": [
    "count = 0\n",
    "for var in gvars:\n",
    "    count += solver.Value(var)"
   ]
  },
  {
   "cell_type": "code",
   "execution_count": 79,
   "metadata": {},
   "outputs": [
    {
     "data": {
      "text/plain": [
       "163"
      ]
     },
     "execution_count": 79,
     "metadata": {},
     "output_type": "execute_result"
    }
   ],
   "source": [
    "count"
   ]
  },
  {
   "cell_type": "markdown",
   "metadata": {},
   "source": [
    "## Finding Multiple Solutions - no limits"
   ]
  },
  {
   "cell_type": "code",
   "execution_count": 69,
   "metadata": {},
   "outputs": [],
   "source": [
    "class VarArraySolutionPrinter(cp_model.CpSolverSolutionCallback):\n",
    "    \"\"\"Print intermediate solutions.\"\"\"\n",
    "\n",
    "    def __init__(self, variables):\n",
    "        cp_model.CpSolverSolutionCallback.__init__(self)\n",
    "        self.__variables = variables\n",
    "        self.__solution_count = 0\n",
    "\n",
    "    def on_solution_callback(self):\n",
    "        self.__solution_count += 1\n",
    "        for v in self.__variables:\n",
    "            2 + 2\n",
    "            #print(1)\n",
    "            #print('%s=%i' % (v, self.Value(v)), end=' ')\n",
    "        return()\n",
    "\n",
    "    def solution_count(self):\n",
    "        return self.__solution_count"
   ]
  },
  {
   "cell_type": "code",
   "execution_count": 70,
   "metadata": {},
   "outputs": [],
   "source": [
    "solver = cp_model.CpSolver()\n",
    "solution_printer = VarArraySolutionPrinter(gvars)\n",
    "status = solver.SearchForAllSolutions(model, solution_printer)"
   ]
  },
  {
   "cell_type": "code",
   "execution_count": 43,
   "metadata": {},
   "outputs": [
    {
     "data": {
      "text/plain": [
       "'FEASIBLE'"
      ]
     },
     "execution_count": 43,
     "metadata": {},
     "output_type": "execute_result"
    }
   ],
   "source": [
    "solver.StatusName()"
   ]
  },
  {
   "cell_type": "code",
   "execution_count": null,
   "metadata": {},
   "outputs": [],
   "source": []
  }
 ],
 "metadata": {
  "kernelspec": {
   "display_name": "Python 3",
   "language": "python",
   "name": "python3"
  },
  "language_info": {
   "codemirror_mode": {
    "name": "ipython",
    "version": 3
   },
   "file_extension": ".py",
   "mimetype": "text/x-python",
   "name": "python",
   "nbconvert_exporter": "python",
   "pygments_lexer": "ipython3",
   "version": "3.8.5"
  }
 },
 "nbformat": 4,
 "nbformat_minor": 4
}
